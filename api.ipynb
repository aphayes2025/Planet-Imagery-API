{
 "cells": [
  {
   "cell_type": "code",
   "execution_count": 2,
   "metadata": {},
   "outputs": [],
   "source": [
    "import os\n",
    "from dotenv import load_dotenv\n",
    "import geopandas as gpd\n",
    "from shapely.geometry import Polygon, mapping\n",
    "import requests \n",
    "import json\n",
    "from requests.auth import HTTPBasicAuth"
   ]
  },
  {
   "cell_type": "code",
   "execution_count": 3,
   "metadata": {},
   "outputs": [],
   "source": [
    "load_dotenv()\n",
    "PLANET_API_KEY = os.getenv('API_KEY')"
   ]
  },
  {
   "cell_type": "code",
   "execution_count": 4,
   "metadata": {},
   "outputs": [],
   "source": [
    "\n",
    "\"\"\"\n",
    "This script reads all shapefiles in a directory, and extracts the AOI polygons \n",
    "stored in the shapefile to a geopandas Polygon to query Planet Imagery downloads\n",
    "through their API. The code logic assumes only one polygon is stored in each\n",
    "shapefile.\n",
    "\n",
    "Harrison Myers\n",
    "6/7/2024\n",
    "\n",
    "Dependencies: \n",
    "    -- os\n",
    "    -- geopandas (pip install geopandas)\n",
    "    -- shapely (pip install shapely)\n",
    "\"\"\"\n",
    "\n",
    "dir_path = '/Users/aidanhayes/Desktop/Planet-Imagery-API/PlanetImageryAOIs'\n",
    "os.chdir(dir_path)\n",
    "\n",
    "def getPolygons(folderPath, sitenames):\n",
    "    \"\"\"\n",
    "    Reads all shapefiles in a directory and stores their respective polygons\n",
    "    in a dictionary\n",
    "    Params:\n",
    "        -- folderPath (str, req): Path to folder where shapefiles are stored\n",
    "    returns:\n",
    "        -- polygons (dict): Dictionary of polygons indexed by first two letters\n",
    "                            of site name\n",
    "    \"\"\"\n",
    "    polygons = {}\n",
    "    for f in os.listdir(folderPath):\n",
    "        if f.endswith('.shp'): # only read shapefiles\n",
    "            fpath = os.path.join(folderPath, f) # get path to shapefile\n",
    "            gdf = gpd.read_file(fpath) # read shapefile\n",
    "            for geom in gdf.geometry:\n",
    "                if isinstance(geom, Polygon):\n",
    "                    polygons[f'{f[:3]}'] = geom\n",
    "    return polygons\n",
    "\n",
    "\n",
    "\n",
    "current_dict = getPolygons(dir_path, '_')  "
   ]
  },
  {
   "cell_type": "code",
   "execution_count": 5,
   "metadata": {},
   "outputs": [
    {
     "name": "stdout",
     "output_type": "stream",
     "text": [
      "200\n"
     ]
    }
   ],
   "source": [
    "# BASE_URL = 'https://api.planet.com/tasking/v2/orders/'\n",
    "# auth = HTTPBasicAuth(PLANET_API_KEY, '')\n",
    "# res = requests.get(url=BASE_URL, auth=auth)\n",
    "# print(res.status_code)"
   ]
  },
  {
   "cell_type": "code",
   "execution_count": 6,
   "metadata": {},
   "outputs": [
    {
     "data": {
      "image/svg+xml": [
       "<svg xmlns=\"http://www.w3.org/2000/svg\" xmlns:xlink=\"http://www.w3.org/1999/xlink\" width=\"300\" height=\"300\" viewBox=\"440425.91515999986 168887.68255999914 934.5106800002977 1015.9624800002784\" preserveAspectRatio=\"xMinYMin meet\"><g transform=\"matrix(1,0,0,-1,0,338791.32759999856)\"><path fill-rule=\"evenodd\" fill=\"#66cc99\" stroke=\"#555555\" stroke-width=\"6.773083200001857\" opacity=\"0.6\" d=\"M 440979.0789999999,169543.6361999996 L 441035.81680000015,169477.3267000001 L 441057.3404000001,169403.04930000007 L 441029.06429999974,169349.8735000007 L 441038.3490000004,169287.41300000064 L 441059.0285,169295.8535999991 L 441073.3775000004,169343.96509999968 L 441109.25009999983,169390.3883999996 L 441185.63769999985,169289.52309999987 L 441203.36290000007,169174.7307999991 L 441297.4757000003,168973.0002999995 L 440548.3716000002,168925.31079999916 L 440551.32579999976,168986.92730000056 L 440612.52020000014,169044.3234000001 L 440603.65759999957,169078.50789999962 L 440581.7120000003,169153.2072999999 L 440620.11679999996,169190.76799999923 L 440570.3172000004,169230.43889999948 L 440513.34300000034,169246.89809999987 L 440556.39020000026,169291.6333000008 L 440525.1599000003,169316.9550999999 L 440509.9667999996,169331.3041999992 L 440539.5088999998,169358.7360999994 L 440567.36290000007,169377.7274999991 L 440555.5460999999,169397.56299999915 L 440551.32579999976,169422.88480000012 L 440568.6289999997,169444.8303999994 L 440563.98670000024,169507.29089999944 L 440542.4631000003,169518.26369999908 L 440523.0497000003,169554.55829999968 L 440540.3530000001,169607.31210000068 L 440531.49039999954,169687.49789999984 L 440463.54339999985,169866.0167999994 L 441322.79760000017,169857.1542000007 L 441319.4212999996,169767.68370000087 L 441238.81350000016,169736.03140000068 L 441181.1135,169659.2388000004 L 441127.09360000025,169556.60089999996 L 441113.31850000005,169573.6172000002 L 441057.1377999997,169640.0616999995 L 441037.1503999997,169643.5730000008 L 441029.3174999999,169638.44109999947 L 441016.62289999984,169636.55040000007 L 441004.46839999966,169644.65340000018 L 440992.3139000004,169644.11319999956 L 440983.9408,169631.95869999938 L 440976.37799999956,169604.40850000083 L 440975.29760000017,169561.19260000065 L 440979.0789999999,169543.6361999996 z\" /></g></svg>"
      ],
      "text/plain": [
       "<POLYGON Z ((440979.079 169543.636 0, 441035.817 169477.327 0, 441057.34 169...>"
      ]
     },
     "execution_count": 6,
     "metadata": {},
     "output_type": "execute_result"
    }
   ],
   "source": [
    "# Stats Seach\n",
    "current_dict['Mon']"
   ]
  },
  {
   "cell_type": "code",
   "execution_count": 7,
   "metadata": {},
   "outputs": [],
   "source": [
    "polygon = current_dict['Mon']\n",
    "geojson_geometry = mapping(polygon)"
   ]
  },
  {
   "cell_type": "code",
   "execution_count": 8,
   "metadata": {},
   "outputs": [],
   "source": [
    "SEARCH_ENDPOINT = 'https://api.planet.com/data/v1/quick-search'\n",
    "\n",
    "search_params = {\n",
    "   \"item_types\":[\n",
    "      \"PSScene\"\n",
    "   ],\n",
    "   \"filter\":{\n",
    "      \"type\":\"AndFilter\",\n",
    "      \"config\":[\n",
    "         {\n",
    "            \"type\":\"GeometryFilter\",\n",
    "            \"field_name\":\"geometry\",\n",
    "            \"config\": geojson_geometry\n",
    "                       \n",
    "              \n",
    "         },\n",
    "         {\n",
    "            \"type\":\"DateRangeFilter\",\n",
    "            \"field_name\":\"acquired\",\n",
    "            \"config\":{\n",
    "               \"gte\":\"2021-11-18T00:00:00Z\",\n",
    "            }\n",
    "         },\n",
    "         {\n",
    "            \"type\":\"StringInFilter\",\n",
    "            \"field_name\":\"quality_category\",\n",
    "            \"config\":[\n",
    "               \"standard\"\n",
    "            ]\n",
    "         },\n",
    "         {\n",
    "            \"type\":\"AssetFilter\",\n",
    "            \"config\":[\n",
    "               \"ortho_analytic_8b\"\n",
    "            ]\n",
    "         },\n",
    "         {\n",
    "            \"type\":\"RangeFilter\",\n",
    "            \"field_name\":\"cloud_cover\",\n",
    "            \"config\":{\n",
    "               \"gte\":0,\n",
    "               \"lte\":0.75\n",
    "            },\n",
    "         },\n",
    "         {\n",
    "            \"type\":\"PermissionFilter\",\n",
    "            \"config\":[\n",
    "               \"assets:download\"\n",
    "            ]\n",
    "         }\n",
    "      ]\n",
    "   }\n",
    "}\n",
    "headers = {\n",
    "    'Authorization': f'api-key {PLANET_API_KEY}',\n",
    "    'Content-Type': 'application/json'\n",
    "}\n",
    "response = requests.post(SEARCH_ENDPOINT, headers=headers, data=json.dumps(search_params))\n"
   ]
  },
  {
   "cell_type": "code",
   "execution_count": 9,
   "metadata": {},
   "outputs": [],
   "source": [
    "data_dict = json.loads(response.text)"
   ]
  },
  {
   "cell_type": "code",
   "execution_count": 10,
   "metadata": {},
   "outputs": [
    {
     "data": {
      "text/plain": [
       "{'field': {'filter.config.0.config.coordinates.0.0': [{'message': '[440979.0789999999, 169543.6361999996, 0.0] is too long'}],\n",
       "  'filter.config.0.config.coordinates.0.1': [{'message': '[441035.81680000015, 169477.3267000001, 0.0] is too long'}],\n",
       "  'filter.config.0.config.coordinates.0.10': [{'message': '[441297.4757000003, 168973.0002999995, 0.0] is too long'}],\n",
       "  'filter.config.0.config.coordinates.0.11': [{'message': '[440548.3716000002, 168925.31079999916, 0.0] is too long'}],\n",
       "  'filter.config.0.config.coordinates.0.12': [{'message': '[440551.32579999976, 168986.92730000056, 0.0] is too long'}],\n",
       "  'filter.config.0.config.coordinates.0.13': [{'message': '[440612.52020000014, 169044.3234000001, 0.0] is too long'}],\n",
       "  'filter.config.0.config.coordinates.0.14': [{'message': '[440603.65759999957, 169078.50789999962, 0.0] is too long'}],\n",
       "  'filter.config.0.config.coordinates.0.15': [{'message': '[440581.7120000003, 169153.2072999999, 0.0] is too long'}],\n",
       "  'filter.config.0.config.coordinates.0.16': [{'message': '[440620.11679999996, 169190.76799999923, 0.0] is too long'}],\n",
       "  'filter.config.0.config.coordinates.0.17': [{'message': '[440570.3172000004, 169230.43889999948, 0.0] is too long'}],\n",
       "  'filter.config.0.config.coordinates.0.18': [{'message': '[440513.34300000034, 169246.89809999987, 0.0] is too long'}],\n",
       "  'filter.config.0.config.coordinates.0.19': [{'message': '[440556.39020000026, 169291.6333000008, 0.0] is too long'}],\n",
       "  'filter.config.0.config.coordinates.0.2': [{'message': '[441057.3404000001, 169403.04930000007, 0.0] is too long'}],\n",
       "  'filter.config.0.config.coordinates.0.20': [{'message': '[440525.1599000003, 169316.9550999999, 0.0] is too long'}],\n",
       "  'filter.config.0.config.coordinates.0.21': [{'message': '[440509.9667999996, 169331.3041999992, 0.0] is too long'}],\n",
       "  'filter.config.0.config.coordinates.0.22': [{'message': '[440539.5088999998, 169358.7360999994, 0.0] is too long'}],\n",
       "  'filter.config.0.config.coordinates.0.23': [{'message': '[440567.36290000007, 169377.7274999991, 0.0] is too long'}],\n",
       "  'filter.config.0.config.coordinates.0.24': [{'message': '[440555.5460999999, 169397.56299999915, 0.0] is too long'}],\n",
       "  'filter.config.0.config.coordinates.0.25': [{'message': '[440551.32579999976, 169422.88480000012, 0.0] is too long'}],\n",
       "  'filter.config.0.config.coordinates.0.26': [{'message': '[440568.6289999997, 169444.8303999994, 0.0] is too long'}],\n",
       "  'filter.config.0.config.coordinates.0.27': [{'message': '[440563.98670000024, 169507.29089999944, 0.0] is too long'}],\n",
       "  'filter.config.0.config.coordinates.0.28': [{'message': '[440542.4631000003, 169518.26369999908, 0.0] is too long'}],\n",
       "  'filter.config.0.config.coordinates.0.29': [{'message': '[440523.0497000003, 169554.55829999968, 0.0] is too long'}],\n",
       "  'filter.config.0.config.coordinates.0.3': [{'message': '[441029.06429999974, 169349.8735000007, 0.0] is too long'}],\n",
       "  'filter.config.0.config.coordinates.0.30': [{'message': '[440540.3530000001, 169607.31210000068, 0.0] is too long'}],\n",
       "  'filter.config.0.config.coordinates.0.31': [{'message': '[440531.49039999954, 169687.49789999984, 0.0] is too long'}],\n",
       "  'filter.config.0.config.coordinates.0.32': [{'message': '[440463.54339999985, 169866.0167999994, 0.0] is too long'}],\n",
       "  'filter.config.0.config.coordinates.0.33': [{'message': '[441322.79760000017, 169857.1542000007, 0.0] is too long'}],\n",
       "  'filter.config.0.config.coordinates.0.34': [{'message': '[441319.4212999996, 169767.68370000087, 0.0] is too long'}],\n",
       "  'filter.config.0.config.coordinates.0.35': [{'message': '[441238.81350000016, 169736.03140000068, 0.0] is too long'}],\n",
       "  'filter.config.0.config.coordinates.0.36': [{'message': '[441181.1135, 169659.2388000004, 0.0] is too long'}],\n",
       "  'filter.config.0.config.coordinates.0.37': [{'message': '[441127.09360000025, 169556.60089999996, 0.0] is too long'}],\n",
       "  'filter.config.0.config.coordinates.0.38': [{'message': '[441113.31850000005, 169573.6172000002, 0.0] is too long'}],\n",
       "  'filter.config.0.config.coordinates.0.39': [{'message': '[441057.1377999997, 169640.0616999995, 0.0] is too long'}],\n",
       "  'filter.config.0.config.coordinates.0.4': [{'message': '[441038.3490000004, 169287.41300000064, 0.0] is too long'}],\n",
       "  'filter.config.0.config.coordinates.0.40': [{'message': '[441037.1503999997, 169643.5730000008, 0.0] is too long'}],\n",
       "  'filter.config.0.config.coordinates.0.41': [{'message': '[441029.3174999999, 169638.44109999947, 0.0] is too long'}],\n",
       "  'filter.config.0.config.coordinates.0.42': [{'message': '[441016.62289999984, 169636.55040000007, 0.0] is too long'}],\n",
       "  'filter.config.0.config.coordinates.0.43': [{'message': '[441004.46839999966, 169644.65340000018, 0.0] is too long'}],\n",
       "  'filter.config.0.config.coordinates.0.44': [{'message': '[440992.3139000004, 169644.11319999956, 0.0] is too long'}],\n",
       "  'filter.config.0.config.coordinates.0.45': [{'message': '[440983.9408, 169631.95869999938, 0.0] is too long'}],\n",
       "  'filter.config.0.config.coordinates.0.46': [{'message': '[440976.37799999956, 169604.40850000083, 0.0] is too long'}],\n",
       "  'filter.config.0.config.coordinates.0.47': [{'message': '[440975.29760000017, 169561.19260000065, 0.0] is too long'}],\n",
       "  'filter.config.0.config.coordinates.0.48': [{'message': '[440979.0789999999, 169543.6361999996, 0.0] is too long'}],\n",
       "  'filter.config.0.config.coordinates.0.5': [{'message': '[441059.0285, 169295.8535999991, 0.0] is too long'}],\n",
       "  'filter.config.0.config.coordinates.0.6': [{'message': '[441073.3775000004, 169343.96509999968, 0.0] is too long'}],\n",
       "  'filter.config.0.config.coordinates.0.7': [{'message': '[441109.25009999983, 169390.3883999996, 0.0] is too long'}],\n",
       "  'filter.config.0.config.coordinates.0.8': [{'message': '[441185.63769999985, 169289.52309999987, 0.0] is too long'}],\n",
       "  'filter.config.0.config.coordinates.0.9': [{'message': '[441203.36290000007, 169174.7307999991, 0.0] is too long'}]},\n",
       " 'general': []}"
      ]
     },
     "execution_count": 10,
     "metadata": {},
     "output_type": "execute_result"
    }
   ],
   "source": [
    "data_dict"
   ]
  }
 ],
 "metadata": {
  "kernelspec": {
   "display_name": ".venv",
   "language": "python",
   "name": "python3"
  },
  "language_info": {
   "codemirror_mode": {
    "name": "ipython",
    "version": 3
   },
   "file_extension": ".py",
   "mimetype": "text/x-python",
   "name": "python",
   "nbconvert_exporter": "python",
   "pygments_lexer": "ipython3",
   "version": "3.12.3"
  }
 },
 "nbformat": 4,
 "nbformat_minor": 2
}
