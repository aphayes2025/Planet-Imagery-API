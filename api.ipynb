{
 "cells": [
  {
   "cell_type": "code",
   "execution_count": 11,
   "metadata": {},
   "outputs": [],
   "source": [
    "import os\n",
    "from dotenv import load_dotenv\n",
    "import geopandas as gpd\n",
    "from shapely.geometry import Polygon, mapping\n",
    "import requests \n",
    "import json\n",
    "from requests.auth import HTTPBasicAuth"
   ]
  },
  {
   "cell_type": "code",
   "execution_count": 12,
   "metadata": {},
   "outputs": [],
   "source": [
    "load_dotenv()\n",
    "PLANET_API_KEY = os.getenv('API_KEY')"
   ]
  },
  {
   "cell_type": "code",
   "execution_count": 14,
   "metadata": {},
   "outputs": [],
   "source": [
    "\n",
    "\"\"\"\n",
    "This script reads all shapefiles in a directory, and extracts the AOI polygons \n",
    "stored in the shapefile to a geopandas Polygon to query Planet Imagery downloads\n",
    "through their API. The code logic assumes only one polygon is stored in each\n",
    "shapefile.\n",
    "\n",
    "Harrison Myers\n",
    "6/7/2024\n",
    "\n",
    "Dependencies: \n",
    "    -- os\n",
    "    -- geopandas (pip install geopandas)\n",
    "    -- shapely (pip install shapely)\n",
    "\"\"\"\n",
    "\n",
    "dir_path = '/Users/aidanhayes/Desktop/Planet-Imagery-API/PlanetImageryAOIs'\n",
    "os.chdir(dir_path)\n",
    "\n",
    "def getPolygons(folderPath):\n",
    "    \"\"\"\n",
    "    Reads all shapefiles in a directory and stores their respective polygons\n",
    "    in a dictionary\n",
    "    Params:\n",
    "        -- folderPath (str, req): Path to folder where shapefiles are stored\n",
    "    returns:\n",
    "        -- polygons (dict): Dictionary of polygons indexed by first two letters\n",
    "                            of site name\n",
    "    \"\"\"\n",
    "    polygons = {}\n",
    "    for f in os.listdir(folderPath):\n",
    "        if f.endswith('.shp'): # only read shapefiles\n",
    "            fpath = os.path.join(folderPath, f) # get path to shapefile\n",
    "            gdf = gpd.read_file(fpath) # read shapefile\n",
    "            for geom in gdf.geometry:\n",
    "                if isinstance(geom, Polygon):\n",
    "                    polygons[f'{f[:3]}'] = geom\n",
    "    return polygons\n",
    "\n",
    "\n",
    "\n",
    "current_dict = getPolygons(dir_path)  "
   ]
  },
  {
   "cell_type": "code",
   "execution_count": 15,
   "metadata": {},
   "outputs": [
    {
     "name": "stdout",
     "output_type": "stream",
     "text": [
      "200\n"
     ]
    }
   ],
   "source": [
    "# BASE_URL = 'https://api.planet.com/tasking/v2/orders/'\n",
    "# auth = HTTPBasicAuth(PLANET_API_KEY, '')\n",
    "# res = requests.get(url=BASE_URL, auth=auth)\n",
    "# print(res.status_code)"
   ]
  },
  {
   "cell_type": "code",
   "execution_count": 16,
   "metadata": {},
   "outputs": [
    {
     "data": {
      "image/svg+xml": [
       "<svg xmlns=\"http://www.w3.org/2000/svg\" xmlns:xlink=\"http://www.w3.org/1999/xlink\" width=\"300\" height=\"300\" viewBox=\"440425.91515999986 168887.68255999914 934.5106800002977 1015.9624800002784\" preserveAspectRatio=\"xMinYMin meet\"><g transform=\"matrix(1,0,0,-1,0,338791.32759999856)\"><path fill-rule=\"evenodd\" fill=\"#66cc99\" stroke=\"#555555\" stroke-width=\"6.773083200001857\" opacity=\"0.6\" d=\"M 440979.0789999999,169543.6361999996 L 441035.81680000015,169477.3267000001 L 441057.3404000001,169403.04930000007 L 441029.06429999974,169349.8735000007 L 441038.3490000004,169287.41300000064 L 441059.0285,169295.8535999991 L 441073.3775000004,169343.96509999968 L 441109.25009999983,169390.3883999996 L 441185.63769999985,169289.52309999987 L 441203.36290000007,169174.7307999991 L 441297.4757000003,168973.0002999995 L 440548.3716000002,168925.31079999916 L 440551.32579999976,168986.92730000056 L 440612.52020000014,169044.3234000001 L 440603.65759999957,169078.50789999962 L 440581.7120000003,169153.2072999999 L 440620.11679999996,169190.76799999923 L 440570.3172000004,169230.43889999948 L 440513.34300000034,169246.89809999987 L 440556.39020000026,169291.6333000008 L 440525.1599000003,169316.9550999999 L 440509.9667999996,169331.3041999992 L 440539.5088999998,169358.7360999994 L 440567.36290000007,169377.7274999991 L 440555.5460999999,169397.56299999915 L 440551.32579999976,169422.88480000012 L 440568.6289999997,169444.8303999994 L 440563.98670000024,169507.29089999944 L 440542.4631000003,169518.26369999908 L 440523.0497000003,169554.55829999968 L 440540.3530000001,169607.31210000068 L 440531.49039999954,169687.49789999984 L 440463.54339999985,169866.0167999994 L 441322.79760000017,169857.1542000007 L 441319.4212999996,169767.68370000087 L 441238.81350000016,169736.03140000068 L 441181.1135,169659.2388000004 L 441127.09360000025,169556.60089999996 L 441113.31850000005,169573.6172000002 L 441057.1377999997,169640.0616999995 L 441037.1503999997,169643.5730000008 L 441029.3174999999,169638.44109999947 L 441016.62289999984,169636.55040000007 L 441004.46839999966,169644.65340000018 L 440992.3139000004,169644.11319999956 L 440983.9408,169631.95869999938 L 440976.37799999956,169604.40850000083 L 440975.29760000017,169561.19260000065 L 440979.0789999999,169543.6361999996 z\" /></g></svg>"
      ],
      "text/plain": [
       "<POLYGON Z ((440979.079 169543.636 0, 441035.817 169477.327 0, 441057.34 169...>"
      ]
     },
     "execution_count": 16,
     "metadata": {},
     "output_type": "execute_result"
    }
   ],
   "source": [
    "# Stats Seach\n",
    "current_dict['Mon']"
   ]
  },
  {
   "cell_type": "code",
   "execution_count": 17,
   "metadata": {},
   "outputs": [],
   "source": [
    "polygon = current_dict['Mon']\n",
    "geojson_geometry = polygon.exterior.coords._coords[:, :2]"
   ]
  },
  {
   "cell_type": "code",
   "execution_count": 21,
   "metadata": {},
   "outputs": [
    {
     "data": {
      "text/plain": [
       "array([[440979.079 , 169543.6362],\n",
       "       [441035.8168, 169477.3267],\n",
       "       [441057.3404, 169403.0493],\n",
       "       [441029.0643, 169349.8735],\n",
       "       [441038.349 , 169287.413 ],\n",
       "       [441059.0285, 169295.8536],\n",
       "       [441073.3775, 169343.9651],\n",
       "       [441109.2501, 169390.3884],\n",
       "       [441185.6377, 169289.5231],\n",
       "       [441203.3629, 169174.7308],\n",
       "       [441297.4757, 168973.0003],\n",
       "       [440548.3716, 168925.3108],\n",
       "       [440551.3258, 168986.9273],\n",
       "       [440612.5202, 169044.3234],\n",
       "       [440603.6576, 169078.5079],\n",
       "       [440581.712 , 169153.2073],\n",
       "       [440620.1168, 169190.768 ],\n",
       "       [440570.3172, 169230.4389],\n",
       "       [440513.343 , 169246.8981],\n",
       "       [440556.3902, 169291.6333],\n",
       "       [440525.1599, 169316.9551],\n",
       "       [440509.9668, 169331.3042],\n",
       "       [440539.5089, 169358.7361],\n",
       "       [440567.3629, 169377.7275],\n",
       "       [440555.5461, 169397.563 ],\n",
       "       [440551.3258, 169422.8848],\n",
       "       [440568.629 , 169444.8304],\n",
       "       [440563.9867, 169507.2909],\n",
       "       [440542.4631, 169518.2637],\n",
       "       [440523.0497, 169554.5583],\n",
       "       [440540.353 , 169607.3121],\n",
       "       [440531.4904, 169687.4979],\n",
       "       [440463.5434, 169866.0168],\n",
       "       [441322.7976, 169857.1542],\n",
       "       [441319.4213, 169767.6837],\n",
       "       [441238.8135, 169736.0314],\n",
       "       [441181.1135, 169659.2388],\n",
       "       [441127.0936, 169556.6009],\n",
       "       [441113.3185, 169573.6172],\n",
       "       [441057.1378, 169640.0617],\n",
       "       [441037.1504, 169643.573 ],\n",
       "       [441029.3175, 169638.4411],\n",
       "       [441016.6229, 169636.5504],\n",
       "       [441004.4684, 169644.6534],\n",
       "       [440992.3139, 169644.1132],\n",
       "       [440983.9408, 169631.9587],\n",
       "       [440976.378 , 169604.4085],\n",
       "       [440975.2976, 169561.1926],\n",
       "       [440979.079 , 169543.6362]])"
      ]
     },
     "execution_count": 21,
     "metadata": {},
     "output_type": "execute_result"
    }
   ],
   "source": [
    "geojson_geometry"
   ]
  },
  {
   "cell_type": "code",
   "execution_count": 23,
   "metadata": {},
   "outputs": [],
   "source": [
    "SEARCH_ENDPOINT = 'https://api.planet.com/data/v1/quick-search'\n",
    "\n",
    "search_params = {\n",
    "   \"item_types\":[\n",
    "      \"PSScene\"\n",
    "   ],\n",
    "   \"filter\":{\n",
    "      \"type\":\"AndFilter\",\n",
    "      \"config\":[\n",
    "         {\n",
    "            \"type\":\"GeometryFilter\",\n",
    "            \"field_name\":\"geometry\",\n",
    "            \"config\": geojson_geometry\n",
    "                       \n",
    "              \n",
    "         },\n",
    "         {\n",
    "            \"type\":\"DateRangeFilter\",\n",
    "            \"field_name\":\"acquired\",\n",
    "            \"config\":{\n",
    "               \"gte\":\"2021-11-18T00:00:00Z\",\n",
    "            }\n",
    "         },\n",
    "         {\n",
    "            \"type\":\"StringInFilter\",\n",
    "            \"field_name\":\"quality_category\",\n",
    "            \"config\":[\n",
    "               \"standard\"\n",
    "            ]\n",
    "         },\n",
    "         {\n",
    "            \"type\":\"AssetFilter\",\n",
    "            \"config\":[\n",
    "               \"ortho_analytic_8b\"\n",
    "            ]\n",
    "         },\n",
    "         {\n",
    "            \"type\":\"RangeFilter\",\n",
    "            \"field_name\":\"cloud_cover\",\n",
    "            \"config\":{\n",
    "               \"gte\":0,\n",
    "               \"lte\":0.75\n",
    "            },\n",
    "         },\n",
    "         {\n",
    "            \"type\":\"PermissionFilter\",\n",
    "            \"config\":[\n",
    "               \"assets:download\"\n",
    "            ]\n",
    "         }\n",
    "      ]\n",
    "   }\n",
    "}\n",
    "headers = {\n",
    "    'Authorization': f'api-key {PLANET_API_KEY}',\n",
    "    'Content-Type': 'application/json'\n",
    "}\n",
    "response = requests.post(SEARCH_ENDPOINT, headers=headers, data=(search_params))\n"
   ]
  },
  {
   "cell_type": "code",
   "execution_count": 26,
   "metadata": {},
   "outputs": [
    {
     "data": {
      "text/plain": [
       "'{\"message\": \"The data the server received was invalid JSON\", \"errors\": []}'"
      ]
     },
     "execution_count": 26,
     "metadata": {},
     "output_type": "execute_result"
    }
   ],
   "source": [
    "response.text"
   ]
  },
  {
   "cell_type": "code",
   "execution_count": 24,
   "metadata": {},
   "outputs": [],
   "source": [
    "data_dict = json.loads(response.text)"
   ]
  },
  {
   "cell_type": "code",
   "execution_count": 25,
   "metadata": {},
   "outputs": [
    {
     "data": {
      "text/plain": [
       "{'message': 'The data the server received was invalid JSON', 'errors': []}"
      ]
     },
     "execution_count": 25,
     "metadata": {},
     "output_type": "execute_result"
    }
   ],
   "source": [
    "data_dict"
   ]
  }
 ],
 "metadata": {
  "kernelspec": {
   "display_name": ".venv",
   "language": "python",
   "name": "python3"
  },
  "language_info": {
   "codemirror_mode": {
    "name": "ipython",
    "version": 3
   },
   "file_extension": ".py",
   "mimetype": "text/x-python",
   "name": "python",
   "nbconvert_exporter": "python",
   "pygments_lexer": "ipython3",
   "version": "3.12.3"
  }
 },
 "nbformat": 4,
 "nbformat_minor": 2
}
